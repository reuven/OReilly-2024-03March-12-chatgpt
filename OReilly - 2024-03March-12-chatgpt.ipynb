{
 "cells": [
  {
   "cell_type": "markdown",
   "metadata": {},
   "source": [
    "# Agenda: Pair Programming with ChatGPT\n",
    "\n",
    "1. What is pair programming?\n",
    "2. Intro to ChatGPT\n",
    "3. Checking and exploring code with ChatGPT\n",
    "4. Developing an application\n",
    "    - Different styles of pair programming\n",
    "    - Getting feedback on/about the program\n",
    "    - Making things better incrementally\n",
    "5. Adding tests to our program\n",
    "6. Making the output nicer\n",
    "7. ChatGPT and the future of programming\n"
   ]
  },
  {
   "cell_type": "markdown",
   "metadata": {},
   "source": [
    "# Pair programming\n",
    "\n",
    "Even though we might think of programming as a solo activity, it's often better when you do it with other people. When you have to talk about something, you have to crystallize your thinking on the subject. That means you're forced to think more deeply, and come to clearer conclusions. \n",
    "\n",
    "Many people have learned this over the years with programming: If they work with someone else (two people on one computer), then they're talking about what they're doing, and they have to think more before jumping in. That leads to better code that's often more readable, less buggy, more efficient than what they could do on their own.\n",
    "\n",
    "There are companies where people always pair program. That might be extreme, but they claim it's great.\n",
    "\n",
    "I've certainly found pairing to be good (for me and for the other person). \n",
    "\n",
    "What if you're working on your own? What if your colleagues don't want to pair with you? What if you don't want to bug them for every little thing?\n",
    "\n",
    "That's where a large language model (LLM) like ChatGPT can be really useful. It's always willing to listen and to give advice and feedback. Also, ChatGPT knows Python (and many other languages) very well!\n",
    "\n"
   ]
  },
  {
   "cell_type": "markdown",
   "metadata": {},
   "source": [
    "# What is ChatGPT?\n",
    "\n",
    "ChatGPT is a very famous LLM. Machine learning works by extrapolating from examples. If you give a machine-learning model a bunch of inputs, it'll see the patterns from those inputs, and can then categorize new inputs that you might give it.  The more varied the inputs you give a ML model, the better the predictive capabilities and the more useful it can be.\n",
    "\n",
    "When it comes to LLMs, the inputs are lots of text. When you ask it to generate new output, it starts with a word that it thinks is relevant to the answer. It then looks at all of the words that might come after that word, and uses statistical analysis to decide what comes next. Really, it's building an answer one word at a time.\n",
    "\n",
    "Every single time you ask a LLM to generate text (or an image, for that matter), it'll give you something different. That's because it's using statistics to figure out what is the most likely next thing that you're expecting -- that's based on its inputs.\n",
    "\n",
    "It turns out that we can use ChatGPT to do many different programming-related tasks:\n",
    "\n",
    "- Write code\n",
    "- Analyze code\n",
    "- Analyze plans for code\n",
    "- Produce tests for our code\n",
    "- Extend/modify existing code\n",
    "- Debug code that we've written\n",
    "\n",
    "# ChatGPT versions\n",
    "\n",
    "I'm going to be using ChatGPT version 4 in this course. That's the most advanced model that we have available from OpenAI. It also costs money -- $20/month.\n",
    "\n",
    "How do I personally use ChatGPT? \n",
    "\n",
    "- Every newsletter I write, I run through ChatGPT and ask it for copy editing and general language advice\n",
    "- I also ask it to review the code that I wrote\n",
    "- I sometimes ask it, \"What do you think?\"\n",
    "- I have it write/extend/modify tests when I don't want to do that myself\n",
    "\n",
    "I've found version 4 to be great (not perfect!) for all of these things. The free version, 3.5, isn't bad at all of these things."
   ]
  },
  {
   "cell_type": "markdown",
   "metadata": {},
   "source": [
    "# Example: Ubbi Dubbi translator\n",
    "\n",
    "What is Ubbi Dubbi? It's a \"secret\" children's language. To translate a word from English into Ubbi Dubbi, you put the syllable \"ub\" before any vowel (a, e, i, o, or u).\n",
    "\n",
    "- milk -> mubilk\n",
    "- cookie -> cuboubokubiube\n",
    "\n",
    "I want to write a function that takes a string as input, and returns a string as output. The input string is assumed to be a single English word, all lowercase, without punctuation. The output should be that input string, translated into Ubbi Dubbi."
   ]
  },
  {
   "cell_type": "code",
   "execution_count": 1,
   "metadata": {},
   "outputs": [
    {
     "name": "stdout",
     "output_type": "stream",
     "text": [
      "hubellubo\n",
      "uboctubopubus\n"
     ]
    }
   ],
   "source": [
    "def simple_ubbi_dubbi(word):\n",
    "    vowels = \"aeiou\"\n",
    "    output = []\n",
    "\n",
    "    for char in word:\n",
    "        if char in vowels:\n",
    "            output.append('ub' + char)\n",
    "        else:\n",
    "            output.append(char)\n",
    "\n",
    "    return ''.join(output)\n",
    "\n",
    "# Example usage\n",
    "print(simple_ubbi_dubbi(\"hello\"))  # Output: hubellubo\n",
    "print(simple_ubbi_dubbi(\"octopus\"))  # Output: uboctubopubus"
   ]
  },
  {
   "cell_type": "code",
   "execution_count": 2,
   "metadata": {},
   "outputs": [
    {
     "data": {
      "text/plain": [
       "'whubatubevuber'"
      ]
     },
     "execution_count": 2,
     "metadata": {},
     "output_type": "execute_result"
    }
   ],
   "source": [
    "simple_ubbi_dubbi('whatever')"
   ]
  },
  {
   "cell_type": "markdown",
   "metadata": {},
   "source": [
    "# Exercise: Pig Latin Sentence\n",
    "\n",
    "Using the same sort of back and forth with ChatGPT, write a Pig Latin translator.\n",
    "\n",
    "Pig Latin is another children's secret word game. The rules are:\n",
    "- If a word starts with a vowel, then add \"way\" to it\n",
    "- Otherwise, move the first letter to the end of the word, and add \"ay\"\n",
    "\n",
    "Examples:\n",
    "\n",
    "- elephant -> elephantway\n",
    "- octopus -> octopusway\n",
    "- computer -> omputercay\n",
    "- papaya -> apayapay\n",
    "\n",
    "1. Try to write a version of this that handles a sentence (not just one word). The function will take a string, and will return a string, but the string will contain multiple words, all (let's assume) lowercase letters and without punctuation.\n",
    "2. Ask ChatGPT what it thinks of your code, and how it can be improved."
   ]
  },
  {
   "cell_type": "code",
   "execution_count": 3,
   "metadata": {},
   "outputs": [],
   "source": [
    "def pl_sentence(s):\n",
    "    output = []\n",
    "\n",
    "    for one_word in s.split():\n",
    "        if one_word[0] in 'aeiou':   # if the first letter is a vowel\n",
    "            output.append(one_word + 'way')\n",
    "        else:\n",
    "            output.append(one_word[1:] + one_word[0] + 'ay')\n",
    "\n",
    "    return ' '.join(output)"
   ]
  },
  {
   "cell_type": "code",
   "execution_count": 4,
   "metadata": {},
   "outputs": [
    {
     "data": {
      "text/plain": [
       "'owhay areway ouyay eelingfay odaytay'"
      ]
     },
     "execution_count": 4,
     "metadata": {},
     "output_type": "execute_result"
    }
   ],
   "source": [
    "pl_sentence('how are you feeling today')"
   ]
  },
  {
   "cell_type": "markdown",
   "metadata": {},
   "source": [
    "# Two approaches (at least) to ChatGPT and coding\n",
    "\n",
    "1. Have it start to write the code\n",
    "2. Have it react to your own code\n"
   ]
  },
  {
   "cell_type": "markdown",
   "metadata": {},
   "source": [
    "# Question 1: How are data/questions I entered into ChatGPT used?\n",
    "\n",
    "Answer: We don't really know.  \n",
    "\n",
    "**NEVER EVER EVER EVER put code or proprietary information from your company into ChatGPT!**"
   ]
  },
  {
   "cell_type": "markdown",
   "metadata": {},
   "source": [
    "# Question 2: How current is 4 vs. 3.5?\n",
    "\n",
    "I'm positive that 4 is more current."
   ]
  },
  {
   "cell_type": "code",
   "execution_count": 5,
   "metadata": {},
   "outputs": [],
   "source": [
    "# let's write a tedious version\n",
    "\n",
    "def pl_sentence(s):\n",
    "    output = []\n",
    "\n",
    "    for one_word in s.split():\n",
    "        if one_word[0] in 'a' or one_word[0] in 'e' or one_word[0] in 'i' or one_word[0] in 'o' or one_word[0] in 'u':\n",
    "            output.append(one_word + 'way')\n",
    "        else:\n",
    "            output.append(one_word[1:] + one_word[0] + 'ay')\n",
    "\n",
    "    return ' '.join(output)"
   ]
  },
  {
   "cell_type": "code",
   "execution_count": null,
   "metadata": {},
   "outputs": [],
   "source": [
    "# let's write a buggy version\n",
    "\n",
    "def pl_sentence(s):\n",
    "    output = []\n",
    "\n",
    "    for one_word in s.split():\n",
    "        if one_word[0] in 'a' or 'e' or 'i' or 'o' or 'u':\n",
    "            output.append(one_word + 'way')\n",
    "        else:\n",
    "            output.append(one_word[1:] + one_word[0] + 'ay')\n",
    "\n",
    "    return ' '.join(output)"
   ]
  },
  {
   "cell_type": "markdown",
   "metadata": {},
   "source": [
    "# Next up\n",
    "\n",
    "1. More sophisticated functions\n",
    "2. Start writing a small application\n",
    "\n"
   ]
  },
  {
   "cell_type": "markdown",
   "metadata": {},
   "source": [
    "# Example: File size reporter\n",
    "\n",
    "I want to write a Python function that takes a list of filenames as inputs, and returns a dict. The dict keys will be the filenames (i.e., the list of inputs). The dict values will be the sizes of each file.\n",
    "\n",
    "I'm going to start writing a function:"
   ]
  },
  {
   "cell_type": "code",
   "execution_count": null,
   "metadata": {},
   "outputs": [],
   "source": [
    "def file_sizes(filenames):\n",
    "    output = []\n",
    "\n",
    "    for one_filename in filenames:\n",
    "        size = 0\n",
    "        for one_line in open(one_filename):\n",
    "            size += len(one_line)\n",
    "\n",
    "        output[one_filename] = size\n",
    "\n",
    "    return output"
   ]
  },
  {
   "cell_type": "code",
   "execution_count": 6,
   "metadata": {},
   "outputs": [],
   "source": [
    "# here is ChatGPT's revised version"
   ]
  },
  {
   "cell_type": "code",
   "execution_count": null,
   "metadata": {},
   "outputs": [],
   "source": []
  },
  {
   "cell_type": "code",
   "execution_count": 7,
   "metadata": {},
   "outputs": [],
   "source": [
    "def file_sizes(filenames):\n",
    "    output = {}  # Initialize as a dictionary\n",
    "\n",
    "    for one_filename in filenames:\n",
    "        size = 0\n",
    "        with open(one_filename, 'r') as file:  # Ensure the file is properly closed\n",
    "            for one_line in file:\n",
    "                size += len(one_line)\n",
    "        output[one_filename] = size\n",
    "\n",
    "    return output\n"
   ]
  },
  {
   "cell_type": "code",
   "execution_count": 10,
   "metadata": {},
   "outputs": [
    {
     "data": {
      "text/plain": [
       "{'/etc/passwd': 8460, '/Users/reuven/.zshrc': 2071}"
      ]
     },
     "execution_count": 10,
     "metadata": {},
     "output_type": "execute_result"
    }
   ],
   "source": [
    "file_sizes(['/etc/passwd', '/Users/reuven/.zshrc'])"
   ]
  },
  {
   "cell_type": "code",
   "execution_count": 11,
   "metadata": {},
   "outputs": [
    {
     "ename": "IsADirectoryError",
     "evalue": "[Errno 21] Is a directory: '/etc/'",
     "output_type": "error",
     "traceback": [
      "\u001b[1;31m---------------------------------------------------------------------------\u001b[0m",
      "\u001b[1;31mIsADirectoryError\u001b[0m                         Traceback (most recent call last)",
      "Cell \u001b[1;32mIn[11], line 1\u001b[0m\n\u001b[1;32m----> 1\u001b[0m \u001b[43mfile_sizes\u001b[49m\u001b[43m(\u001b[49m\u001b[43m[\u001b[49m\u001b[38;5;124;43m'\u001b[39;49m\u001b[38;5;124;43m/etc/passwd\u001b[39;49m\u001b[38;5;124;43m'\u001b[39;49m\u001b[43m,\u001b[49m\u001b[43m \u001b[49m\u001b[38;5;124;43m'\u001b[39;49m\u001b[38;5;124;43m/Users/reuven/.zshrc\u001b[39;49m\u001b[38;5;124;43m'\u001b[39;49m\u001b[43m,\u001b[49m\u001b[43m \u001b[49m\u001b[38;5;124;43m'\u001b[39;49m\u001b[38;5;124;43m/etc/\u001b[39;49m\u001b[38;5;124;43m'\u001b[39;49m\u001b[43m]\u001b[49m\u001b[43m)\u001b[49m\n",
      "Cell \u001b[1;32mIn[7], line 6\u001b[0m, in \u001b[0;36mfile_sizes\u001b[1;34m(filenames)\u001b[0m\n\u001b[0;32m      4\u001b[0m \u001b[38;5;28;01mfor\u001b[39;00m one_filename \u001b[38;5;129;01min\u001b[39;00m filenames:\n\u001b[0;32m      5\u001b[0m     size \u001b[38;5;241m=\u001b[39m \u001b[38;5;241m0\u001b[39m\n\u001b[1;32m----> 6\u001b[0m     \u001b[38;5;28;01mwith\u001b[39;00m \u001b[38;5;28;43mopen\u001b[39;49m\u001b[43m(\u001b[49m\u001b[43mone_filename\u001b[49m\u001b[43m,\u001b[49m\u001b[43m \u001b[49m\u001b[38;5;124;43m'\u001b[39;49m\u001b[38;5;124;43mr\u001b[39;49m\u001b[38;5;124;43m'\u001b[39;49m\u001b[43m)\u001b[49m \u001b[38;5;28;01mas\u001b[39;00m file:  \u001b[38;5;66;03m# Ensure the file is properly closed\u001b[39;00m\n\u001b[0;32m      7\u001b[0m         \u001b[38;5;28;01mfor\u001b[39;00m one_line \u001b[38;5;129;01min\u001b[39;00m file:\n\u001b[0;32m      8\u001b[0m             size \u001b[38;5;241m+\u001b[39m\u001b[38;5;241m=\u001b[39m \u001b[38;5;28mlen\u001b[39m(one_line)\n",
      "File \u001b[1;32m~/.pyenv/versions/3.12.1/lib/python3.12/site-packages/IPython/core/interactiveshell.py:310\u001b[0m, in \u001b[0;36m_modified_open\u001b[1;34m(file, *args, **kwargs)\u001b[0m\n\u001b[0;32m    303\u001b[0m \u001b[38;5;28;01mif\u001b[39;00m file \u001b[38;5;129;01min\u001b[39;00m {\u001b[38;5;241m0\u001b[39m, \u001b[38;5;241m1\u001b[39m, \u001b[38;5;241m2\u001b[39m}:\n\u001b[0;32m    304\u001b[0m     \u001b[38;5;28;01mraise\u001b[39;00m \u001b[38;5;167;01mValueError\u001b[39;00m(\n\u001b[0;32m    305\u001b[0m         \u001b[38;5;124mf\u001b[39m\u001b[38;5;124m\"\u001b[39m\u001b[38;5;124mIPython won\u001b[39m\u001b[38;5;124m'\u001b[39m\u001b[38;5;124mt let you open fd=\u001b[39m\u001b[38;5;132;01m{\u001b[39;00mfile\u001b[38;5;132;01m}\u001b[39;00m\u001b[38;5;124m by default \u001b[39m\u001b[38;5;124m\"\u001b[39m\n\u001b[0;32m    306\u001b[0m         \u001b[38;5;124m\"\u001b[39m\u001b[38;5;124mas it is likely to crash IPython. If you know what you are doing, \u001b[39m\u001b[38;5;124m\"\u001b[39m\n\u001b[0;32m    307\u001b[0m         \u001b[38;5;124m\"\u001b[39m\u001b[38;5;124myou can use builtins\u001b[39m\u001b[38;5;124m'\u001b[39m\u001b[38;5;124m open.\u001b[39m\u001b[38;5;124m\"\u001b[39m\n\u001b[0;32m    308\u001b[0m     )\n\u001b[1;32m--> 310\u001b[0m \u001b[38;5;28;01mreturn\u001b[39;00m \u001b[43mio_open\u001b[49m\u001b[43m(\u001b[49m\u001b[43mfile\u001b[49m\u001b[43m,\u001b[49m\u001b[43m \u001b[49m\u001b[38;5;241;43m*\u001b[39;49m\u001b[43margs\u001b[49m\u001b[43m,\u001b[49m\u001b[43m \u001b[49m\u001b[38;5;241;43m*\u001b[39;49m\u001b[38;5;241;43m*\u001b[39;49m\u001b[43mkwargs\u001b[49m\u001b[43m)\u001b[49m\n",
      "\u001b[1;31mIsADirectoryError\u001b[0m: [Errno 21] Is a directory: '/etc/'"
     ]
    }
   ],
   "source": [
    "file_sizes(['/etc/passwd', '/Users/reuven/.zshrc', '/etc/'])"
   ]
  },
  {
   "cell_type": "markdown",
   "metadata": {},
   "source": [
    "# Exercise: Longest word\n",
    "\n",
    "1. Write a function, `longest_word`, that takes a filename as an input. The function goes through the file, and finds the longest word in the file, and returns it. \n",
    "2. Ask ChatGPT what it thinks about your implementation.\n",
    "3. What about:\n",
    "    - Binary files?\n",
    "    - Punctuation before/after the words?\n",
    "    - Remove URLs?\n"
   ]
  },
  {
   "cell_type": "code",
   "execution_count": 12,
   "metadata": {},
   "outputs": [],
   "source": [
    "def longest_word(filename):\n",
    "    output = ''\n",
    "\n",
    "    for one_line in open(filename):\n",
    "        for one_word in one_line.split():\n",
    "            if len(one_word) > len(output):\n",
    "                output = one_word\n",
    "\n",
    "    return output"
   ]
  },
  {
   "cell_type": "code",
   "execution_count": 13,
   "metadata": {},
   "outputs": [
    {
     "data": {
      "text/plain": [
       "'http://www.gutenberg.org/1/9/0/3/19033/'"
      ]
     },
     "execution_count": 13,
     "metadata": {},
     "output_type": "execute_result"
    }
   ],
   "source": [
    "longest_word('alice-in-wonderland.txt')"
   ]
  },
  {
   "cell_type": "code",
   "execution_count": 14,
   "metadata": {},
   "outputs": [],
   "source": [
    "import string\n",
    "\n",
    "def longest_word(filename):\n",
    "    longest = ''\n",
    "\n",
    "    with open(filename, 'r') as file:\n",
    "        for line in file:\n",
    "            words = line.split()\n",
    "            for word in words:\n",
    "                # Strip punctuation from the word\n",
    "                clean_word = word.strip(string.punctuation)\n",
    "                if len(clean_word) > len(longest):\n",
    "                    longest = clean_word\n",
    "\n",
    "    return longest\n"
   ]
  },
  {
   "cell_type": "code",
   "execution_count": 15,
   "metadata": {},
   "outputs": [
    {
     "data": {
      "text/plain": [
       "'http://www.gutenberg.org/1/9/0/3/19033'"
      ]
     },
     "execution_count": 15,
     "metadata": {},
     "output_type": "execute_result"
    }
   ],
   "source": [
    "longest_word('alice-in-wonderland.txt')\n"
   ]
  },
  {
   "cell_type": "code",
   "execution_count": 24,
   "metadata": {},
   "outputs": [],
   "source": [
    "import string\n",
    "\n",
    "def longest_word(filename):\n",
    "    longest = ''\n",
    "\n",
    "    with open(filename, 'r') as file:\n",
    "        for line in file:\n",
    "            words = line.split()\n",
    "            for word in words:\n",
    "                # Strip punctuation from the word\n",
    "                clean_word = word.strip(string.punctuation)\n",
    "                # Check if the word is a URL; if so, skip it\n",
    "                if clean_word.startswith('http://') or clean_word.startswith('https://'):\n",
    "                    continue\n",
    "                if '/' in clean_word:\n",
    "                    continue\n",
    "                if '@' in clean_word:\n",
    "                    continue\n",
    "                if '.' in clean_word:\n",
    "                    continue\n",
    "                if len(clean_word) > len(longest):\n",
    "                    longest = clean_word\n",
    "\n",
    "    return longest\n"
   ]
  },
  {
   "cell_type": "code",
   "execution_count": 25,
   "metadata": {},
   "outputs": [
    {
     "data": {
      "text/plain": [
       "'waistcoat-pocket'"
      ]
     },
     "execution_count": 25,
     "metadata": {},
     "output_type": "execute_result"
    }
   ],
   "source": [
    "longest_word('alice-in-wonderland.txt')\n"
   ]
  },
  {
   "cell_type": "markdown",
   "metadata": {},
   "source": [
    "# Let's develop an application!\n",
    "\n",
    "I'm going to propose an idea for a program. I'm going to write it along with ChatGPT. We can approach it in a few different ways, including (a) ChatGPT starts and I respond, or (b) I start, and ChatGPT responds."
   ]
  },
  {
   "cell_type": "markdown",
   "metadata": {},
   "source": [
    "# Compare Weather\n",
    "\n",
    "I love to travel. It would be nice to know not just the weather where I'm going, but the difference in weather between where I am now and where I'm going -- hotter/colder, more/less humid, more/less rain.\n",
    "\n",
    "I want to write a program that lets someone enter two places, and will tell them the difference in weather between those two places.\n",
    "\n",
    "Let's write a function that takes two locations, and shows us the difference in weather between them.  We can use an API for this -- I like to use OpenWeatherMap.org.\n",
    "\n",
    "\n",
    "\n",
    "\n"
   ]
  },
  {
   "cell_type": "code",
   "execution_count": 26,
   "metadata": {},
   "outputs": [],
   "source": [
    "import requests\n",
    "\n",
    "def compare_weather(location1, location2, api_key):\n",
    "    base_url = \"http://api.openweathermap.org/data/2.5/weather?q={}&appid={}&units=metric\"\n",
    "\n",
    "    response1 = requests.get(base_url.format(location1, api_key))\n",
    "    response2 = requests.get(base_url.format(location2, api_key))\n",
    "\n",
    "    if response1.status_code == 200 and response2.status_code == 200:\n",
    "        weather1 = response1.json()\n",
    "        weather2 = response2.json()\n",
    "\n",
    "        temp_diff = weather2['main']['temp'] - weather1['main']['temp']\n",
    "        humidity_diff = weather2['main']['humidity'] - weather1['main']['humidity']\n",
    "\n",
    "        # Add more differences if needed\n",
    "\n",
    "        print(f\"Weather Comparison between {location1} and {location2}:\")\n",
    "        print(f\"Temperature difference: {temp_diff}°C\")\n",
    "        print(f\"Humidity difference: {humidity_diff}%\")\n",
    "        # Print more differences if calculated\n",
    "\n",
    "    else:\n",
    "        print(\"Failed to get weather data for one or both locations.\")\n",
    "\n",
    "# Usage example (replace \"YOUR_API_KEY\" with your actual API key)\n",
    "# compare_weather(\"New York\", \"Los Angeles\", \"YOUR_API_KEY\")\n"
   ]
  },
  {
   "cell_type": "code",
   "execution_count": 27,
   "metadata": {},
   "outputs": [
    {
     "name": "stdout",
     "output_type": "stream",
     "text": [
      "Weather Comparison between Tel Aviv and Reykjavik:\n",
      "Temperature difference: -11.32°C\n",
      "Humidity difference: -1%\n"
     ]
    }
   ],
   "source": [
    "compare_weather('Tel Aviv', 'Reykjavik', '75e28cf00906095c31dc005c0ca6c38f')"
   ]
  },
  {
   "cell_type": "code",
   "execution_count": 28,
   "metadata": {},
   "outputs": [],
   "source": [
    "import requests\n",
    "\n",
    "def compare_weather(location1, location2, api_key):\n",
    "    base_url = \"http://api.openweathermap.org/data/2.5/weather?q={}&appid={}&units=metric\"\n",
    "\n",
    "    response1 = requests.get(base_url.format(location1, api_key))\n",
    "    response2 = requests.get(base_url.format(location2, api_key))\n",
    "\n",
    "    if response1.status_code == 200 and response2.status_code == 200:\n",
    "        weather1 = response1.json()\n",
    "        weather2 = response2.json()\n",
    "\n",
    "        temp_diff = weather2['main']['temp'] - weather1['main']['temp']\n",
    "        humidity_diff = weather2['main']['humidity'] - weather1['main']['humidity']\n",
    "\n",
    "        # Initialize precipitation variables\n",
    "        precipitation1 = {\"rain\": 0, \"snow\": 0}\n",
    "        precipitation2 = {\"rain\": 0, \"snow\": 0}\n",
    "\n",
    "        # Check for rain in both locations\n",
    "        if 'rain' in weather1:\n",
    "            precipitation1['rain'] = weather1['rain'].get('1h', 0)\n",
    "        if 'rain' in weather2:\n",
    "            precipitation2['rain'] = weather2['rain'].get('1h', 0)\n",
    "\n",
    "        # Check for snow in both locations\n",
    "        if 'snow' in weather1:\n",
    "            precipitation1['snow'] = weather1['snow'].get('1h', 0)\n",
    "        if 'snow' in weather2:\n",
    "            precipitation2['snow'] = weather2['snow'].get('1h', 0)\n",
    "\n",
    "        rain_diff = precipitation2['rain'] - precipitation1['rain']\n",
    "        snow_diff = precipitation2['snow'] - precipitation1['snow']\n",
    "\n",
    "        print(f\"Weather Comparison between {location1} and {location2}:\")\n",
    "        print(f\"Temperature difference: {temp_diff:.2f}°C\")\n",
    "        print(f\"Humidity difference: {humidity_diff}%\")\n",
    "        print(f\"Rain difference: {rain_diff}mm\")\n",
    "        print(f\"Snow difference: {snow_diff}mm\")\n",
    "\n",
    "    else:\n",
    "        print(\"Failed to get weather data for one or both locations.\")\n",
    "\n",
    "# Usage example (replace \"YOUR_API_KEY\" with your actual API key)\n",
    "# compare_weather(\"New York\", \"Los Angeles\", \"YOUR_API_KEY\")\n"
   ]
  },
  {
   "cell_type": "code",
   "execution_count": 29,
   "metadata": {},
   "outputs": [
    {
     "name": "stdout",
     "output_type": "stream",
     "text": [
      "Weather Comparison between Tel Aviv and Reykjavik:\n",
      "Temperature difference: -11.32°C\n",
      "Humidity difference: -1%\n",
      "Rain difference: 0mm\n",
      "Snow difference: 0mm\n"
     ]
    }
   ],
   "source": [
    "compare_weather('Tel Aviv', 'Reykjavik', '75e28cf00906095c31dc005c0ca6c38f')"
   ]
  },
  {
   "cell_type": "code",
   "execution_count": 30,
   "metadata": {},
   "outputs": [
    {
     "name": "stdout",
     "output_type": "stream",
     "text": [
      "Please set the OPENWEATHER_API_KEY environment variable.\n"
     ]
    },
    {
     "ename": "KeyboardInterrupt",
     "evalue": "Interrupted by user",
     "output_type": "error",
     "traceback": [
      "\u001b[1;31m---------------------------------------------------------------------------\u001b[0m",
      "\u001b[1;31mKeyboardInterrupt\u001b[0m                         Traceback (most recent call last)",
      "Cell \u001b[1;32mIn[30], line 54\u001b[0m\n\u001b[0;32m     51\u001b[0m     \u001b[38;5;28mprint\u001b[39m(\u001b[38;5;124m\"\u001b[39m\u001b[38;5;124mPlease set the OPENWEATHER_API_KEY environment variable.\u001b[39m\u001b[38;5;124m\"\u001b[39m)\n\u001b[0;32m     52\u001b[0m     exit(\u001b[38;5;241m1\u001b[39m)\n\u001b[1;32m---> 54\u001b[0m current_location \u001b[38;5;241m=\u001b[39m \u001b[38;5;28;43minput\u001b[39;49m\u001b[43m(\u001b[49m\u001b[38;5;124;43m'\u001b[39;49m\u001b[38;5;124;43mCurrent location: \u001b[39;49m\u001b[38;5;124;43m'\u001b[39;49m\u001b[43m)\u001b[49m\u001b[38;5;241m.\u001b[39mstrip()\n\u001b[0;32m     55\u001b[0m destination_location \u001b[38;5;241m=\u001b[39m \u001b[38;5;28minput\u001b[39m(\u001b[38;5;124m'\u001b[39m\u001b[38;5;124mDestination location: \u001b[39m\u001b[38;5;124m'\u001b[39m)\u001b[38;5;241m.\u001b[39mstrip()\n\u001b[0;32m     57\u001b[0m \u001b[38;5;28;01mif\u001b[39;00m \u001b[38;5;129;01mnot\u001b[39;00m current_location \u001b[38;5;129;01mor\u001b[39;00m \u001b[38;5;129;01mnot\u001b[39;00m destination_location:\n",
      "File \u001b[1;32m~/.pyenv/versions/3.12.1/lib/python3.12/site-packages/ipykernel/kernelbase.py:1262\u001b[0m, in \u001b[0;36mKernel.raw_input\u001b[1;34m(self, prompt)\u001b[0m\n\u001b[0;32m   1260\u001b[0m     msg \u001b[38;5;241m=\u001b[39m \u001b[38;5;124m\"\u001b[39m\u001b[38;5;124mraw_input was called, but this frontend does not support input requests.\u001b[39m\u001b[38;5;124m\"\u001b[39m\n\u001b[0;32m   1261\u001b[0m     \u001b[38;5;28;01mraise\u001b[39;00m StdinNotImplementedError(msg)\n\u001b[1;32m-> 1262\u001b[0m \u001b[38;5;28;01mreturn\u001b[39;00m \u001b[38;5;28;43mself\u001b[39;49m\u001b[38;5;241;43m.\u001b[39;49m\u001b[43m_input_request\u001b[49m\u001b[43m(\u001b[49m\n\u001b[0;32m   1263\u001b[0m \u001b[43m    \u001b[49m\u001b[38;5;28;43mstr\u001b[39;49m\u001b[43m(\u001b[49m\u001b[43mprompt\u001b[49m\u001b[43m)\u001b[49m\u001b[43m,\u001b[49m\n\u001b[0;32m   1264\u001b[0m \u001b[43m    \u001b[49m\u001b[38;5;28;43mself\u001b[39;49m\u001b[38;5;241;43m.\u001b[39;49m\u001b[43m_parent_ident\u001b[49m\u001b[43m[\u001b[49m\u001b[38;5;124;43m\"\u001b[39;49m\u001b[38;5;124;43mshell\u001b[39;49m\u001b[38;5;124;43m\"\u001b[39;49m\u001b[43m]\u001b[49m\u001b[43m,\u001b[49m\n\u001b[0;32m   1265\u001b[0m \u001b[43m    \u001b[49m\u001b[38;5;28;43mself\u001b[39;49m\u001b[38;5;241;43m.\u001b[39;49m\u001b[43mget_parent\u001b[49m\u001b[43m(\u001b[49m\u001b[38;5;124;43m\"\u001b[39;49m\u001b[38;5;124;43mshell\u001b[39;49m\u001b[38;5;124;43m\"\u001b[39;49m\u001b[43m)\u001b[49m\u001b[43m,\u001b[49m\n\u001b[0;32m   1266\u001b[0m \u001b[43m    \u001b[49m\u001b[43mpassword\u001b[49m\u001b[38;5;241;43m=\u001b[39;49m\u001b[38;5;28;43;01mFalse\u001b[39;49;00m\u001b[43m,\u001b[49m\n\u001b[0;32m   1267\u001b[0m \u001b[43m\u001b[49m\u001b[43m)\u001b[49m\n",
      "File \u001b[1;32m~/.pyenv/versions/3.12.1/lib/python3.12/site-packages/ipykernel/kernelbase.py:1305\u001b[0m, in \u001b[0;36mKernel._input_request\u001b[1;34m(self, prompt, ident, parent, password)\u001b[0m\n\u001b[0;32m   1302\u001b[0m \u001b[38;5;28;01mexcept\u001b[39;00m \u001b[38;5;167;01mKeyboardInterrupt\u001b[39;00m:\n\u001b[0;32m   1303\u001b[0m     \u001b[38;5;66;03m# re-raise KeyboardInterrupt, to truncate traceback\u001b[39;00m\n\u001b[0;32m   1304\u001b[0m     msg \u001b[38;5;241m=\u001b[39m \u001b[38;5;124m\"\u001b[39m\u001b[38;5;124mInterrupted by user\u001b[39m\u001b[38;5;124m\"\u001b[39m\n\u001b[1;32m-> 1305\u001b[0m     \u001b[38;5;28;01mraise\u001b[39;00m \u001b[38;5;167;01mKeyboardInterrupt\u001b[39;00m(msg) \u001b[38;5;28;01mfrom\u001b[39;00m \u001b[38;5;28;01mNone\u001b[39;00m\n\u001b[0;32m   1306\u001b[0m \u001b[38;5;28;01mexcept\u001b[39;00m \u001b[38;5;167;01mException\u001b[39;00m:\n\u001b[0;32m   1307\u001b[0m     \u001b[38;5;28mself\u001b[39m\u001b[38;5;241m.\u001b[39mlog\u001b[38;5;241m.\u001b[39mwarning(\u001b[38;5;124m\"\u001b[39m\u001b[38;5;124mInvalid Message:\u001b[39m\u001b[38;5;124m\"\u001b[39m, exc_info\u001b[38;5;241m=\u001b[39m\u001b[38;5;28;01mTrue\u001b[39;00m)\n",
      "\u001b[1;31mKeyboardInterrupt\u001b[0m: Interrupted by user"
     ]
    }
   ],
   "source": [
    "#!/usr/bin/env python3\n",
    "\n",
    "import os\n",
    "import requests\n",
    "\n",
    "def compare_weather(location1, location2, api_key):\n",
    "    base_url = \"http://api.openweathermap.org/data/2.5/weather?q={}&appid={}&units=metric\"\n",
    "\n",
    "    response1 = requests.get(base_url.format(location1, api_key))\n",
    "    response2 = requests.get(base_url.format(location2, api_key))\n",
    "    result = {}\n",
    "\n",
    "    if response1.status_code == 200 and response2.status_code == 200:\n",
    "        weather1 = response1.json()\n",
    "        weather2 = response2.json()\n",
    "\n",
    "        temp_diff = weather2['main']['temp'] - weather1['main']['temp']\n",
    "        humidity_diff = weather2['main']['humidity'] - weather1['main']['humidity']\n",
    "\n",
    "        precipitation1 = {\"rain\": 0, \"snow\": 0}\n",
    "        precipitation2 = {\"rain\": 0, \"snow\": 0}\n",
    "\n",
    "        if 'rain' in weather1:\n",
    "            precipitation1['rain'] = weather1['rain'].get('1h', 0)\n",
    "        if 'rain' in weather2:\n",
    "            precipitation2['rain'] = weather2['rain'].get('1h', 0)\n",
    "\n",
    "        if 'snow' in weather1:\n",
    "            precipitation1['snow'] = weather1['snow'].get('1h', 0)\n",
    "        if 'snow' in weather2:\n",
    "            precipitation2['snow'] = weather2['snow'].get('1h', 0)\n",
    "\n",
    "        rain_diff = precipitation2['rain'] - precipitation1['rain']\n",
    "        snow_diff = precipitation2['snow'] - precipitation1['snow']\n",
    "\n",
    "        result = {\n",
    "            \"Temperature Difference\": f\"{temp_diff:.2f}°C\",\n",
    "            \"Humidity Difference\": f\"{humidity_diff}%\",\n",
    "            \"Rain Difference\": f\"{rain_diff}mm\",\n",
    "            \"Snow Difference\": f\"{snow_diff}mm\"\n",
    "        }\n",
    "    else:\n",
    "        result[\"Error\"] = \"Failed to get weather data for one or both locations.\"\n",
    "\n",
    "    return result\n",
    "\n",
    "# this will be run when I execute the program from the command line\n",
    "if __name__ == '__main__':\n",
    "    api_key = os.getenv('OPENWEATHER_API_KEY')\n",
    "    if not api_key:\n",
    "        print(\"Please set the OPENWEATHER_API_KEY environment variable.\")\n",
    "        exit(1)\n",
    "\n",
    "    current_location = input('Current location: ').strip()\n",
    "    destination_location = input('Destination location: ').strip()\n",
    "\n",
    "    if not current_location or not destination_location:\n",
    "        print(\"Invalid input. Please enter valid locations.\")\n",
    "    else:\n",
    "        weather_comparison = compare_weather(current_location, destination_location, api_key)\n",
    "        for key, value in weather_comparison.items():\n",
    "            print(f\"{key}: {value}\")\n"
   ]
  },
  {
   "cell_type": "markdown",
   "metadata": {},
   "source": [
    "# Next up\n",
    "\n",
    "1. Command-line arguments\n",
    "2. Make the output nicer\n",
    "3. Write tests\n",
    "4. What next?"
   ]
  },
  {
   "cell_type": "markdown",
   "metadata": {},
   "source": [
    "# Command-line arguments\n",
    "\n",
    "We modified the program to use `argparse` to get inputs from the command line. ChatGPT helped us with that. It also restructured our program, such that it has a `main` function that is invoked whenever we invoke the program from the command line."
   ]
  },
  {
   "cell_type": "markdown",
   "metadata": {},
   "source": [
    "# Make the output nicer\n",
    "\n",
    "I want to use Rich to make the output nicer:\n",
    "\n",
    "1. Let's use color to indicate hotter/colder temperatures.\n",
    "2. Let's put the information in a table that will make it more aesthetic.\n",
    "\n"
   ]
  },
  {
   "cell_type": "markdown",
   "metadata": {},
   "source": [
    "# What about tests?\n",
    "\n",
    "It's a good idea to write automated tests for any function we write! This way, we can be confident that our code is working, and that when we change it, it continues to work.\n",
    "\n",
    "The most popular test framework in Python is `pytest`. Can we ask ChatGPT to write tests for our functions? Yes!"
   ]
  },
  {
   "cell_type": "markdown",
   "metadata": {},
   "source": [
    "# Exercise: Site sizes\n",
    "\n",
    "Let's write a command-line Python program that takes one or more URLs as arguments, and prints the number of bytes that each of those URLs returns when we go to them.\n",
    "\n",
    "In other words, I should be able to say\n",
    "\n",
    "    site_sizes https://python.org https://lerner.co.il https://BambooWeekly.com\n",
    "\n",
    "It should print each URL as well as the size of each URL. If there's an error, then print the error alongside the URL.\n",
    "\n",
    "1. Have ChatGPT help you to write such a program.\n",
    "2. Have it enhance the output in some way, probably using Rich.\n",
    "3. Have it write one or more tests.\n"
   ]
  },
  {
   "cell_type": "code",
   "execution_count": null,
   "metadata": {},
   "outputs": [],
   "source": []
  }
 ],
 "metadata": {
  "kernelspec": {
   "display_name": "Python 3 (ipykernel)",
   "language": "python",
   "name": "python3"
  },
  "language_info": {
   "codemirror_mode": {
    "name": "ipython",
    "version": 3
   },
   "file_extension": ".py",
   "mimetype": "text/x-python",
   "name": "python",
   "nbconvert_exporter": "python",
   "pygments_lexer": "ipython3",
   "version": "3.12.1"
  }
 },
 "nbformat": 4,
 "nbformat_minor": 4
}
