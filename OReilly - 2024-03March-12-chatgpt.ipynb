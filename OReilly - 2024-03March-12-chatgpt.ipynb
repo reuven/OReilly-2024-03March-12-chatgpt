{
 "cells": [
  {
   "cell_type": "markdown",
   "metadata": {},
   "source": [
    "# Agenda: Pair Programming with ChatGPT\n",
    "\n",
    "1. What is pair programming?\n",
    "2. Intro to ChatGPT\n",
    "3. Checking and exploring code with ChatGPT\n",
    "4. Developing an application\n",
    "    - Different styles of pair programming\n",
    "    - Getting feedback on/about the program\n",
    "    - Making things better incrementally\n",
    "5. Adding tests to our program\n",
    "6. Making the output nicer\n",
    "7. ChatGPT and the future of programming\n"
   ]
  },
  {
   "cell_type": "markdown",
   "metadata": {},
   "source": [
    "# Pair programming\n",
    "\n",
    "Even though we might think of programming as a solo activity, it's often better when you do it with other people. When you have to talk about something, you have to crystallize your thinking on the subject. That means you're forced to think more deeply, and come to clearer conclusions. \n",
    "\n",
    "Many people have learned this over the years with programming: If they work with someone else (two people on one computer), then they're talking about what they're doing, and they have to think more before jumping in. That leads to better code that's often more readable, less buggy, more efficient than what they could do on their own.\n",
    "\n",
    "There are companies where people always pair program. That might be extreme, but they claim it's great.\n",
    "\n",
    "I've certainly found pairing to be good (for me and for the other person). \n",
    "\n",
    "What if you're working on your own? What if your colleagues don't want to pair with you? What if you don't want to bug them for every little thing?\n",
    "\n",
    "That's where a large language model (LLM) like ChatGPT can be really useful. It's always willing to listen and to give advice and feedback. Also, ChatGPT knows Python (and many other languages) very well!\n",
    "\n"
   ]
  },
  {
   "cell_type": "markdown",
   "metadata": {},
   "source": [
    "# What is ChatGPT?\n",
    "\n",
    "ChatGPT is a very famous LLM. Machine learning works by extrapolating from examples. If you give a machine-learning model a bunch of inputs, it'll see the patterns from those inputs, and can then categorize new inputs that you might give it.  The more varied the inputs you give a ML model, the better the predictive capabilities and the more useful it can be.\n",
    "\n",
    "When it comes to LLMs, the inputs are lots of text. When you ask it to generate new output, it starts with a word that it thinks is relevant to the answer. It then looks at all of the words that might come after that word, and uses statistical analysis to decide what comes next. Really, it's building an answer one word at a time.\n",
    "\n",
    "Every single time you ask a LLM to generate text (or an image, for that matter), it'll give you something different. That's because it's using statistics to figure out what is the most likely next thing that you're expecting -- that's based on its inputs.\n",
    "\n",
    "It turns out that we can use ChatGPT to do many different programming-related tasks:\n",
    "\n",
    "- Write code\n",
    "- Analyze code\n",
    "- Analyze plans for code\n",
    "- Produce tests for our code\n",
    "- Extend/modify existing code\n",
    "- Debug code that we've written\n",
    "\n",
    "# ChatGPT versions\n",
    "\n",
    "I'm going to be using ChatGPT version 4 in this course. That's the most advanced model that we have available from OpenAI. It also costs money -- $20/month.\n",
    "\n",
    "How do I personally use ChatGPT? \n",
    "\n",
    "- Every newsletter I write, I run through ChatGPT and ask it for copy editing and general language advice\n",
    "- I also ask it to review the code that I wrote\n",
    "- I sometimes ask it, \"What do you think?\"\n",
    "- I have it write/extend/modify tests when I don't want to do that myself\n",
    "\n",
    "I've found version 4 to be great (not perfect!) for all of these things. The free version, 3.5, isn't bad at all of these things."
   ]
  },
  {
   "cell_type": "markdown",
   "metadata": {},
   "source": [
    "# Example: Ubbi Dubbi translator\n",
    "\n",
    "What is Ubbi Dubbi? It's a \"secret\" children's language. To translate a word from English into Ubbi Dubbi, you put the syllable \"ub\" before any vowel (a, e, i, o, or u).\n",
    "\n",
    "- milk -> mubilk\n",
    "- cookie -> cuboubokubiube\n",
    "\n",
    "I want to write a function that takes a string as input, and returns a string as output. The input string is assumed to be a single English word, all lowercase, without punctuation. The output should be that input string, translated into Ubbi Dubbi."
   ]
  },
  {
   "cell_type": "code",
   "execution_count": 1,
   "metadata": {},
   "outputs": [
    {
     "name": "stdout",
     "output_type": "stream",
     "text": [
      "hubellubo\n",
      "uboctubopubus\n"
     ]
    }
   ],
   "source": [
    "def simple_ubbi_dubbi(word):\n",
    "    vowels = \"aeiou\"\n",
    "    output = []\n",
    "\n",
    "    for char in word:\n",
    "        if char in vowels:\n",
    "            output.append('ub' + char)\n",
    "        else:\n",
    "            output.append(char)\n",
    "\n",
    "    return ''.join(output)\n",
    "\n",
    "# Example usage\n",
    "print(simple_ubbi_dubbi(\"hello\"))  # Output: hubellubo\n",
    "print(simple_ubbi_dubbi(\"octopus\"))  # Output: uboctubopubus"
   ]
  },
  {
   "cell_type": "code",
   "execution_count": 2,
   "metadata": {},
   "outputs": [
    {
     "data": {
      "text/plain": [
       "'whubatubevuber'"
      ]
     },
     "execution_count": 2,
     "metadata": {},
     "output_type": "execute_result"
    }
   ],
   "source": [
    "simple_ubbi_dubbi('whatever')"
   ]
  },
  {
   "cell_type": "markdown",
   "metadata": {},
   "source": [
    "# Exercise: Pig Latin Sentence\n",
    "\n",
    "Using the same sort of back and forth with ChatGPT, write a Pig Latin translator.\n",
    "\n",
    "Pig Latin is another children's secret word game. The rules are:\n",
    "- If a word starts with a vowel, then add \"way\" to it\n",
    "- Otherwise, move the first letter to the end of the word, and add \"ay\"\n",
    "\n",
    "Examples:\n",
    "\n",
    "- elephant -> elephantway\n",
    "- octopus -> octopusway\n",
    "- computer -> omputercay\n",
    "- papaya -> apayapay\n",
    "\n",
    "1. Try to write a version of this that handles a sentence (not just one word). The function will take a string, and will return a string, but the string will contain multiple words, all (let's assume) lowercase letters and without punctuation.\n",
    "2. Ask ChatGPT what it thinks of your code, and how it can be improved."
   ]
  },
  {
   "cell_type": "code",
   "execution_count": 3,
   "metadata": {},
   "outputs": [],
   "source": [
    "def pl_sentence(s):\n",
    "    output = []\n",
    "\n",
    "    for one_word in s.split():\n",
    "        if one_word[0] in 'aeiou':   # if the first letter is a vowel\n",
    "            output.append(one_word + 'way')\n",
    "        else:\n",
    "            output.append(one_word[1:] + one_word[0] + 'ay')\n",
    "\n",
    "    return ' '.join(output)"
   ]
  },
  {
   "cell_type": "code",
   "execution_count": 4,
   "metadata": {},
   "outputs": [
    {
     "data": {
      "text/plain": [
       "'owhay areway ouyay eelingfay odaytay'"
      ]
     },
     "execution_count": 4,
     "metadata": {},
     "output_type": "execute_result"
    }
   ],
   "source": [
    "pl_sentence('how are you feeling today')"
   ]
  },
  {
   "cell_type": "markdown",
   "metadata": {},
   "source": [
    "# Two approaches (at least) to ChatGPT and coding\n",
    "\n",
    "1. Have it start to write the code\n",
    "2. Have it react to your own code\n"
   ]
  },
  {
   "cell_type": "markdown",
   "metadata": {},
   "source": [
    "# Question 1: How are data/questions I entered into ChatGPT used?\n",
    "\n",
    "Answer: We don't really know.  \n",
    "\n",
    "**NEVER EVER EVER EVER put code or proprietary information from your company into ChatGPT!**"
   ]
  },
  {
   "cell_type": "markdown",
   "metadata": {},
   "source": [
    "# Question 2: How current is 4 vs. 3.5?\n",
    "\n",
    "I'm positive that 4 is more current."
   ]
  },
  {
   "cell_type": "code",
   "execution_count": 5,
   "metadata": {},
   "outputs": [],
   "source": [
    "# let's write a tedious version\n",
    "\n",
    "def pl_sentence(s):\n",
    "    output = []\n",
    "\n",
    "    for one_word in s.split():\n",
    "        if one_word[0] in 'a' or one_word[0] in 'e' or one_word[0] in 'i' or one_word[0] in 'o' or one_word[0] in 'u':\n",
    "            output.append(one_word + 'way')\n",
    "        else:\n",
    "            output.append(one_word[1:] + one_word[0] + 'ay')\n",
    "\n",
    "    return ' '.join(output)"
   ]
  },
  {
   "cell_type": "code",
   "execution_count": null,
   "metadata": {},
   "outputs": [],
   "source": [
    "# let's write a buggy version\n",
    "\n",
    "def pl_sentence(s):\n",
    "    output = []\n",
    "\n",
    "    for one_word in s.split():\n",
    "        if one_word[0] in 'a' or 'e' or 'i' or 'o' or 'u':\n",
    "            output.append(one_word + 'way')\n",
    "        else:\n",
    "            output.append(one_word[1:] + one_word[0] + 'ay')\n",
    "\n",
    "    return ' '.join(output)"
   ]
  },
  {
   "cell_type": "markdown",
   "metadata": {},
   "source": [
    "# Next up\n",
    "\n",
    "1. More sophisticated functions\n",
    "2. Start writing a small application\n",
    "\n"
   ]
  },
  {
   "cell_type": "markdown",
   "metadata": {},
   "source": [
    "# Example: File size reporter\n",
    "\n",
    "I want to write a Python function that takes a list of filenames as inputs, and returns a dict. The dict keys will be the filenames (i.e., the list of inputs). The dict values will be the sizes of each file"
   ]
  }
 ],
 "metadata": {
  "kernelspec": {
   "display_name": "Python 3 (ipykernel)",
   "language": "python",
   "name": "python3"
  },
  "language_info": {
   "codemirror_mode": {
    "name": "ipython",
    "version": 3
   },
   "file_extension": ".py",
   "mimetype": "text/x-python",
   "name": "python",
   "nbconvert_exporter": "python",
   "pygments_lexer": "ipython3",
   "version": "3.12.1"
  }
 },
 "nbformat": 4,
 "nbformat_minor": 4
}
