{
 "cells": [
  {
   "cell_type": "markdown",
   "metadata": {},
   "source": [
    "# Agenda: Pair Programming with ChatGPT\n",
    "\n",
    "1. What is pair programming?\n",
    "2. Intro to ChatGPT\n",
    "3. Checking and exploring code with ChatGPT\n",
    "4. Developing an application\n",
    "    - Different styles of pair programming\n",
    "    - Getting feedback on/about the program\n",
    "    - Making things better incrementally\n",
    "5. Adding tests to our program\n",
    "6. Making the output nicer\n",
    "7. ChatGPT and the future of programming\n"
   ]
  },
  {
   "cell_type": "markdown",
   "metadata": {},
   "source": [
    "# Pair programming\n",
    "\n",
    "Even though we might think of programming as a solo activity, it's often better when you do it with other people. When you have to talk about something, you have to crystallize your thinking on the subject. That means you're forced to think more deeply, and come to clearer conclusions. \n",
    "\n",
    "Many people have learned this over the years with programming: If they work with someone else (two people on one computer), then they're talking about what they're doing, and they have to think more before jumping in. That leads to better code that's often more readable, less buggy, more efficient than what they could do on their own.\n",
    "\n",
    "There are companies where people always pair program. That might be extreme, but they claim it's great.\n",
    "\n",
    "I've certainly found pairing to be good (for me and for the other person). \n",
    "\n",
    "What if you're working on your own? What if your colleagues don't want to pair with you? What if you don't want to bug them for every little thing?\n",
    "\n",
    "That's where a large language model (LLM) like ChatGPT can be really useful. It's always willing to listen and to give advice and feedback. Also, ChatGPT knows Python (and many other languages) very well!\n",
    "\n"
   ]
  },
  {
   "cell_type": "markdown",
   "metadata": {},
   "source": [
    "# What is ChatGPT?\n",
    "\n",
    "ChatGPT is a very famous LLM. Machine learning works by extrapolating from examples. If you give a machine-learning model a bunch of inputs, it'll see the patterns from those inputs, and can then categorize new inputs that you might give it.  The more varied the inputs you give a ML model, the better the predictive capabilities and the more useful it can be.\n",
    "\n",
    "When it comes to LLMs, the inputs are lots of text. When you ask it to generate new output, it starts with a word that it thinks is relevant to the answer. It then looks at all of the words that might come after that word, and uses statistical analysis to decide what comes next. Really, it's building an answer one word at a time.\n",
    "\n",
    "Every single time you ask a LLM to generate text (or an image, for that matter), it'll give you something different. That's because it's using statistics to figure out what is the most likely next thing that you're expecting -- that's based on its inputs.\n",
    "\n",
    "It turns out that we can use ChatGPT to do many different programming-related tasks:\n",
    "\n",
    "- Write code\n",
    "- Analyze code\n",
    "- Analyze plans for code\n",
    "- Produce tests for our code\n",
    "- Extend/modify existing code\n",
    "- Debug code that we've written\n",
    "\n",
    "# ChatGPT versions\n",
    "\n",
    "I'm going to be using ChatGPT version 4 in this course. That's the most advanced model that we have available from OpenAI. It also costs money -- $20/month.\n",
    "\n",
    "How do I personally use ChatGPT? \n",
    "\n",
    "- Every newsletter I write, I run through ChatGPT and ask it for copy editing and general language advice\n",
    "- I also ask it to review the code that I wrote\n",
    "- I sometimes ask it, \"What do you think?\"\n",
    "- I have it write/extend/modify tests when I don't want to do that myself\n",
    "\n",
    "I've found version 4 to be great (not perfect!) for all of these things. The free version, 3.5, isn't bad at all of these things."
   ]
  },
  {
   "cell_type": "markdown",
   "metadata": {},
   "source": [
    "# Example: Ubbi Dubbi translator\n",
    "\n",
    "What is Ubbi Dubbi? It's a \"secret\" children's language. To translate a word from English into Ubbi Dubbi, you put the syllable \"ub\" before any vowel (a, e, i, o, or u).\n",
    "\n",
    "- milk -> mubilk\n",
    "- cookie -> cuboubokubiube\n",
    "\n",
    "I want to write a function that takes a string as input, and returns a string as output. The input string is assumed to be a single English word, all lowercase, without punctuation. The output should be that input string, translated into Ubbi Dubbi."
   ]
  },
  {
   "cell_type": "code",
   "execution_count": 1,
   "metadata": {},
   "outputs": [
    {
     "name": "stdout",
     "output_type": "stream",
     "text": [
      "hubellubo\n",
      "uboctubopubus\n"
     ]
    }
   ],
   "source": [
    "def simple_ubbi_dubbi(word):\n",
    "    vowels = \"aeiou\"\n",
    "    output = []\n",
    "\n",
    "    for char in word:\n",
    "        if char in vowels:\n",
    "            output.append('ub' + char)\n",
    "        else:\n",
    "            output.append(char)\n",
    "\n",
    "    return ''.join(output)\n",
    "\n",
    "# Example usage\n",
    "print(simple_ubbi_dubbi(\"hello\"))  # Output: hubellubo\n",
    "print(simple_ubbi_dubbi(\"octopus\"))  # Output: uboctubopubus"
   ]
  },
  {
   "cell_type": "code",
   "execution_count": 2,
   "metadata": {},
   "outputs": [
    {
     "data": {
      "text/plain": [
       "'whubatubevuber'"
      ]
     },
     "execution_count": 2,
     "metadata": {},
     "output_type": "execute_result"
    }
   ],
   "source": [
    "simple_ubbi_dubbi('whatever')"
   ]
  },
  {
   "cell_type": "markdown",
   "metadata": {},
   "source": [
    "# Exercise: Pig Latin Sentence\n",
    "\n",
    "Using the same sort of back and forth with ChatGPT, write a Pig Latin translator.\n",
    "\n",
    "Pig Latin is another children's secret word game. The rules are:\n",
    "- If a word starts with a vowel, then add \"way\" to it\n",
    "- Otherwise, move the first letter to the end of the word, and add \"ay\"\n",
    "\n",
    "Examples:\n",
    "\n",
    "- elephant -> elephantway\n",
    "- octopus -> octopusway\n",
    "- computer -> omputercay\n",
    "- papaya -> apayapay\n",
    "\n",
    "1. Try to write a version of this that handles a sentence (not just one word). The function will take a string, and will return a string, but the string will contain multiple words, all (let's assume) lowercase letters and without punctuation.\n",
    "2. Ask ChatGPT what it thinks of your code, and how it can be improved."
   ]
  },
  {
   "cell_type": "code",
   "execution_count": 3,
   "metadata": {},
   "outputs": [],
   "source": [
    "def pl_sentence(s):\n",
    "    output = []\n",
    "\n",
    "    for one_word in s.split():\n",
    "        if one_word[0] in 'aeiou':   # if the first letter is a vowel\n",
    "            output.append(one_word + 'way')\n",
    "        else:\n",
    "            output.append(one_word[1:] + one_word[0] + 'ay')\n",
    "\n",
    "    return ' '.join(output)"
   ]
  },
  {
   "cell_type": "code",
   "execution_count": 4,
   "metadata": {},
   "outputs": [
    {
     "data": {
      "text/plain": [
       "'owhay areway ouyay eelingfay odaytay'"
      ]
     },
     "execution_count": 4,
     "metadata": {},
     "output_type": "execute_result"
    }
   ],
   "source": [
    "pl_sentence('how are you feeling today')"
   ]
  },
  {
   "cell_type": "markdown",
   "metadata": {},
   "source": [
    "# Two approaches (at least) to ChatGPT and coding\n",
    "\n",
    "1. Have it start to write the code\n",
    "2. Have it react to your own code\n"
   ]
  },
  {
   "cell_type": "markdown",
   "metadata": {},
   "source": [
    "# Question 1: How are data/questions I entered into ChatGPT used?\n",
    "\n",
    "Answer: We don't really know.  \n",
    "\n",
    "**NEVER EVER EVER EVER put code or proprietary information from your company into ChatGPT!**"
   ]
  },
  {
   "cell_type": "markdown",
   "metadata": {},
   "source": [
    "# Question 2: How current is 4 vs. 3.5?\n",
    "\n",
    "I'm positive that 4 is more current."
   ]
  },
  {
   "cell_type": "code",
   "execution_count": 5,
   "metadata": {},
   "outputs": [],
   "source": [
    "# let's write a tedious version\n",
    "\n",
    "def pl_sentence(s):\n",
    "    output = []\n",
    "\n",
    "    for one_word in s.split():\n",
    "        if one_word[0] in 'a' or one_word[0] in 'e' or one_word[0] in 'i' or one_word[0] in 'o' or one_word[0] in 'u':\n",
    "            output.append(one_word + 'way')\n",
    "        else:\n",
    "            output.append(one_word[1:] + one_word[0] + 'ay')\n",
    "\n",
    "    return ' '.join(output)"
   ]
  },
  {
   "cell_type": "code",
   "execution_count": null,
   "metadata": {},
   "outputs": [],
   "source": [
    "# let's write a buggy version\n",
    "\n",
    "def pl_sentence(s):\n",
    "    output = []\n",
    "\n",
    "    for one_word in s.split():\n",
    "        if one_word[0] in 'a' or 'e' or 'i' or 'o' or 'u':\n",
    "            output.append(one_word + 'way')\n",
    "        else:\n",
    "            output.append(one_word[1:] + one_word[0] + 'ay')\n",
    "\n",
    "    return ' '.join(output)"
   ]
  },
  {
   "cell_type": "markdown",
   "metadata": {},
   "source": [
    "# Next up\n",
    "\n",
    "1. More sophisticated functions\n",
    "2. Start writing a small application\n",
    "\n"
   ]
  },
  {
   "cell_type": "markdown",
   "metadata": {},
   "source": [
    "# Example: File size reporter\n",
    "\n",
    "I want to write a Python function that takes a list of filenames as inputs, and returns a dict. The dict keys will be the filenames (i.e., the list of inputs). The dict values will be the sizes of each file.\n",
    "\n",
    "I'm going to start writing a function:"
   ]
  },
  {
   "cell_type": "code",
   "execution_count": null,
   "metadata": {},
   "outputs": [],
   "source": [
    "def file_sizes(filenames):\n",
    "    output = []\n",
    "\n",
    "    for one_filename in filenames:\n",
    "        size = 0\n",
    "        for one_line in open(one_filename):\n",
    "            size += len(one_line)\n",
    "\n",
    "        output[one_filename] = size\n",
    "\n",
    "    return output"
   ]
  },
  {
   "cell_type": "code",
   "execution_count": 6,
   "metadata": {},
   "outputs": [],
   "source": [
    "# here is ChatGPT's revised version"
   ]
  },
  {
   "cell_type": "code",
   "execution_count": null,
   "metadata": {},
   "outputs": [],
   "source": []
  },
  {
   "cell_type": "code",
   "execution_count": 7,
   "metadata": {},
   "outputs": [],
   "source": [
    "def file_sizes(filenames):\n",
    "    output = {}  # Initialize as a dictionary\n",
    "\n",
    "    for one_filename in filenames:\n",
    "        size = 0\n",
    "        with open(one_filename, 'r') as file:  # Ensure the file is properly closed\n",
    "            for one_line in file:\n",
    "                size += len(one_line)\n",
    "        output[one_filename] = size\n",
    "\n",
    "    return output\n"
   ]
  },
  {
   "cell_type": "code",
   "execution_count": 10,
   "metadata": {},
   "outputs": [
    {
     "data": {
      "text/plain": [
       "{'/etc/passwd': 8460, '/Users/reuven/.zshrc': 2071}"
      ]
     },
     "execution_count": 10,
     "metadata": {},
     "output_type": "execute_result"
    }
   ],
   "source": [
    "file_sizes(['/etc/passwd', '/Users/reuven/.zshrc'])"
   ]
  },
  {
   "cell_type": "code",
   "execution_count": 11,
   "metadata": {},
   "outputs": [
    {
     "ename": "IsADirectoryError",
     "evalue": "[Errno 21] Is a directory: '/etc/'",
     "output_type": "error",
     "traceback": [
      "\u001b[1;31m---------------------------------------------------------------------------\u001b[0m",
      "\u001b[1;31mIsADirectoryError\u001b[0m                         Traceback (most recent call last)",
      "Cell \u001b[1;32mIn[11], line 1\u001b[0m\n\u001b[1;32m----> 1\u001b[0m \u001b[43mfile_sizes\u001b[49m\u001b[43m(\u001b[49m\u001b[43m[\u001b[49m\u001b[38;5;124;43m'\u001b[39;49m\u001b[38;5;124;43m/etc/passwd\u001b[39;49m\u001b[38;5;124;43m'\u001b[39;49m\u001b[43m,\u001b[49m\u001b[43m \u001b[49m\u001b[38;5;124;43m'\u001b[39;49m\u001b[38;5;124;43m/Users/reuven/.zshrc\u001b[39;49m\u001b[38;5;124;43m'\u001b[39;49m\u001b[43m,\u001b[49m\u001b[43m \u001b[49m\u001b[38;5;124;43m'\u001b[39;49m\u001b[38;5;124;43m/etc/\u001b[39;49m\u001b[38;5;124;43m'\u001b[39;49m\u001b[43m]\u001b[49m\u001b[43m)\u001b[49m\n",
      "Cell \u001b[1;32mIn[7], line 6\u001b[0m, in \u001b[0;36mfile_sizes\u001b[1;34m(filenames)\u001b[0m\n\u001b[0;32m      4\u001b[0m \u001b[38;5;28;01mfor\u001b[39;00m one_filename \u001b[38;5;129;01min\u001b[39;00m filenames:\n\u001b[0;32m      5\u001b[0m     size \u001b[38;5;241m=\u001b[39m \u001b[38;5;241m0\u001b[39m\n\u001b[1;32m----> 6\u001b[0m     \u001b[38;5;28;01mwith\u001b[39;00m \u001b[38;5;28;43mopen\u001b[39;49m\u001b[43m(\u001b[49m\u001b[43mone_filename\u001b[49m\u001b[43m,\u001b[49m\u001b[43m \u001b[49m\u001b[38;5;124;43m'\u001b[39;49m\u001b[38;5;124;43mr\u001b[39;49m\u001b[38;5;124;43m'\u001b[39;49m\u001b[43m)\u001b[49m \u001b[38;5;28;01mas\u001b[39;00m file:  \u001b[38;5;66;03m# Ensure the file is properly closed\u001b[39;00m\n\u001b[0;32m      7\u001b[0m         \u001b[38;5;28;01mfor\u001b[39;00m one_line \u001b[38;5;129;01min\u001b[39;00m file:\n\u001b[0;32m      8\u001b[0m             size \u001b[38;5;241m+\u001b[39m\u001b[38;5;241m=\u001b[39m \u001b[38;5;28mlen\u001b[39m(one_line)\n",
      "File \u001b[1;32m~/.pyenv/versions/3.12.1/lib/python3.12/site-packages/IPython/core/interactiveshell.py:310\u001b[0m, in \u001b[0;36m_modified_open\u001b[1;34m(file, *args, **kwargs)\u001b[0m\n\u001b[0;32m    303\u001b[0m \u001b[38;5;28;01mif\u001b[39;00m file \u001b[38;5;129;01min\u001b[39;00m {\u001b[38;5;241m0\u001b[39m, \u001b[38;5;241m1\u001b[39m, \u001b[38;5;241m2\u001b[39m}:\n\u001b[0;32m    304\u001b[0m     \u001b[38;5;28;01mraise\u001b[39;00m \u001b[38;5;167;01mValueError\u001b[39;00m(\n\u001b[0;32m    305\u001b[0m         \u001b[38;5;124mf\u001b[39m\u001b[38;5;124m\"\u001b[39m\u001b[38;5;124mIPython won\u001b[39m\u001b[38;5;124m'\u001b[39m\u001b[38;5;124mt let you open fd=\u001b[39m\u001b[38;5;132;01m{\u001b[39;00mfile\u001b[38;5;132;01m}\u001b[39;00m\u001b[38;5;124m by default \u001b[39m\u001b[38;5;124m\"\u001b[39m\n\u001b[0;32m    306\u001b[0m         \u001b[38;5;124m\"\u001b[39m\u001b[38;5;124mas it is likely to crash IPython. If you know what you are doing, \u001b[39m\u001b[38;5;124m\"\u001b[39m\n\u001b[0;32m    307\u001b[0m         \u001b[38;5;124m\"\u001b[39m\u001b[38;5;124myou can use builtins\u001b[39m\u001b[38;5;124m'\u001b[39m\u001b[38;5;124m open.\u001b[39m\u001b[38;5;124m\"\u001b[39m\n\u001b[0;32m    308\u001b[0m     )\n\u001b[1;32m--> 310\u001b[0m \u001b[38;5;28;01mreturn\u001b[39;00m \u001b[43mio_open\u001b[49m\u001b[43m(\u001b[49m\u001b[43mfile\u001b[49m\u001b[43m,\u001b[49m\u001b[43m \u001b[49m\u001b[38;5;241;43m*\u001b[39;49m\u001b[43margs\u001b[49m\u001b[43m,\u001b[49m\u001b[43m \u001b[49m\u001b[38;5;241;43m*\u001b[39;49m\u001b[38;5;241;43m*\u001b[39;49m\u001b[43mkwargs\u001b[49m\u001b[43m)\u001b[49m\n",
      "\u001b[1;31mIsADirectoryError\u001b[0m: [Errno 21] Is a directory: '/etc/'"
     ]
    }
   ],
   "source": [
    "file_sizes(['/etc/passwd', '/Users/reuven/.zshrc', '/etc/'])"
   ]
  },
  {
   "cell_type": "markdown",
   "metadata": {},
   "source": [
    "# Exercise: Longest word\n",
    "\n",
    "1. Write a function, `longest_word`, that takes a filename as an input. The function goes through the file, and finds the longest word in the file, and returns it. \n",
    "2. Ask ChatGPT what it thinks about your implementation.\n",
    "3. What about:\n",
    "    - Binary files?\n",
    "    - Punctuation before/after the words?\n",
    "    - Remove URLs?\n"
   ]
  },
  {
   "cell_type": "code",
   "execution_count": 12,
   "metadata": {},
   "outputs": [],
   "source": [
    "def longest_word(filename):\n",
    "    output = ''\n",
    "\n",
    "    for one_line in open(filename):\n",
    "        for one_word in one_line.split():\n",
    "            if len(one_word) > len(output):\n",
    "                output = one_word\n",
    "\n",
    "    return output"
   ]
  },
  {
   "cell_type": "code",
   "execution_count": 13,
   "metadata": {},
   "outputs": [
    {
     "data": {
      "text/plain": [
       "'http://www.gutenberg.org/1/9/0/3/19033/'"
      ]
     },
     "execution_count": 13,
     "metadata": {},
     "output_type": "execute_result"
    }
   ],
   "source": [
    "longest_word('alice-in-wonderland.txt')"
   ]
  },
  {
   "cell_type": "code",
   "execution_count": 14,
   "metadata": {},
   "outputs": [],
   "source": [
    "import string\n",
    "\n",
    "def longest_word(filename):\n",
    "    longest = ''\n",
    "\n",
    "    with open(filename, 'r') as file:\n",
    "        for line in file:\n",
    "            words = line.split()\n",
    "            for word in words:\n",
    "                # Strip punctuation from the word\n",
    "                clean_word = word.strip(string.punctuation)\n",
    "                if len(clean_word) > len(longest):\n",
    "                    longest = clean_word\n",
    "\n",
    "    return longest\n"
   ]
  },
  {
   "cell_type": "code",
   "execution_count": 15,
   "metadata": {},
   "outputs": [
    {
     "data": {
      "text/plain": [
       "'http://www.gutenberg.org/1/9/0/3/19033'"
      ]
     },
     "execution_count": 15,
     "metadata": {},
     "output_type": "execute_result"
    }
   ],
   "source": [
    "longest_word('alice-in-wonderland.txt')\n"
   ]
  },
  {
   "cell_type": "code",
   "execution_count": 24,
   "metadata": {},
   "outputs": [],
   "source": [
    "import string\n",
    "\n",
    "def longest_word(filename):\n",
    "    longest = ''\n",
    "\n",
    "    with open(filename, 'r') as file:\n",
    "        for line in file:\n",
    "            words = line.split()\n",
    "            for word in words:\n",
    "                # Strip punctuation from the word\n",
    "                clean_word = word.strip(string.punctuation)\n",
    "                # Check if the word is a URL; if so, skip it\n",
    "                if clean_word.startswith('http://') or clean_word.startswith('https://'):\n",
    "                    continue\n",
    "                if '/' in clean_word:\n",
    "                    continue\n",
    "                if '@' in clean_word:\n",
    "                    continue\n",
    "                if '.' in clean_word:\n",
    "                    continue\n",
    "                if len(clean_word) > len(longest):\n",
    "                    longest = clean_word\n",
    "\n",
    "    return longest\n"
   ]
  },
  {
   "cell_type": "code",
   "execution_count": 25,
   "metadata": {},
   "outputs": [
    {
     "data": {
      "text/plain": [
       "'waistcoat-pocket'"
      ]
     },
     "execution_count": 25,
     "metadata": {},
     "output_type": "execute_result"
    }
   ],
   "source": [
    "longest_word('alice-in-wonderland.txt')\n"
   ]
  },
  {
   "cell_type": "markdown",
   "metadata": {},
   "source": [
    "# Let's develop an application!\n",
    "\n",
    "I'm going to propose an idea for a program. I'm going to write it along with ChatGPT. We can approach it in a few different ways, including (a) ChatGPT starts and I respond, or (b) I start, and ChatGPT responds."
   ]
  },
  {
   "cell_type": "markdown",
   "metadata": {},
   "source": [
    "# Compare Weather\n",
    "\n",
    "I love to travel. It would be nice to know not just the weather where I'm going, but the difference in weather between where I am now and where I'm going -- hotter/colder, more/less humid, more/less rain.\n",
    "\n",
    "I want to write a program that lets someone enter two places, and will tell them the difference in weather between those two places.\n",
    "\n",
    "Let's write a command-line program that \n"
   ]
  },
  {
   "cell_type": "code",
   "execution_count": null,
   "metadata": {},
   "outputs": [],
   "source": []
  }
 ],
 "metadata": {
  "kernelspec": {
   "display_name": "Python 3 (ipykernel)",
   "language": "python",
   "name": "python3"
  },
  "language_info": {
   "codemirror_mode": {
    "name": "ipython",
    "version": 3
   },
   "file_extension": ".py",
   "mimetype": "text/x-python",
   "name": "python",
   "nbconvert_exporter": "python",
   "pygments_lexer": "ipython3",
   "version": "3.12.1"
  }
 },
 "nbformat": 4,
 "nbformat_minor": 4
}
